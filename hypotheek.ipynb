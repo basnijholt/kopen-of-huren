{
 "cells": [
  {
   "cell_type": "markdown",
   "metadata": {},
   "source": [
    "# Hypotheek, alles aflossen of niet?\n",
    "\n",
    "Aannames\n",
    "* hyptotheekrente aftrek regeling blijft zoals het nu is\n",
    "* hyptotheekrente aftrek wordt geinvesteerd als het terug gegeven wordt\n",
    "* het maandelijkse verschil tussen *X% aflosvrije hyptoheek* en *0% aflosvrije hyptotheek* wordt geinvesteerd\n",
    "* de investerenen worden gedaan in een indexfund (globale aandelenmarkt)\n",
    "* WOZ waarde stijgt net zo hard als huizenprijs\n",
    "\n",
    "Variable\n",
    "* aflossings vrij gedeelte in %\n",
    "* rente over aflossingsvrij deel (*zonder* hyptotheekrente aftrek) en aflossingsdeel\n",
    "* huizenprijs groei per jaar\n",
    "* aandelenmarkt groei per jaar\n",
    "\n"
   ]
  },
  {
   "cell_type": "code",
   "execution_count": 166,
   "metadata": {},
   "outputs": [
    {
     "name": "stdout",
     "output_type": "stream",
     "text": [
      "Het verschil door niet af te lossen is €240k (€1.82M vs €2.06M vermogen).\n",
      "Het aandelenportfolio is €241k vs €806k.\n",
      "De uiteindelijke huiswaarde is €1.58M.\n"
     ]
    }
   ],
   "source": [
    "from maandlasten import maandlasten\n",
    "\n",
    "from mortgage import Mortgage\n",
    "\n",
    "from inflation import inflatie_laatste_jaar\n",
    "\n",
    "HOOGSTE_SCHIJF = 0.495  # belasting 49.5%\n",
    "\n",
    "\n",
    "def per_maand(x):\n",
    "    return (1 + x / 100) ** (1 / 12)\n",
    "\n",
    "\n",
    "def run_hypotheek(\n",
    "    aflossings_vrij=50,  # pct\n",
    "    rente_deel_1=1.89,\n",
    "    rente_deel_2=1.99,\n",
    "    huis_groei_per_jaar=4,\n",
    "    aandelen_groei_per_jaar=7,\n",
    "    huisprijs=650e3,\n",
    "):\n",
    "    m1 = Mortgage(rente_deel_1 / 100, 360, huisprijs * (1 - aflossings_vrij / 100))\n",
    "    m2 = huisprijs * aflossings_vrij / 100\n",
    "    m2_rente = m2 * rente_deel_2 / 100 / 12\n",
    "\n",
    "    # Benchmark is hyptotheek die 100% wordt afgelost\n",
    "    m_benchmark = Mortgage(rente_deel_1 / 100, 360, huisprijs)\n",
    "\n",
    "    def chunks(lst, n):\n",
    "        for i in range(0, len(lst), n):\n",
    "            yield lst[i : i + n]\n",
    "\n",
    "    aftrek_per_jaar = []\n",
    "    afbetaling, m1_rente = zip(*m1.monthly_payment_schedule())\n",
    "    rente_per_jaar = [float(sum(x)) for x in chunks(m1_rente, 12)]\n",
    "    woz = huisprijs * 0.95  # start op vorig jaar\n",
    "    assert len(rente_per_jaar) == 30  # 30 jaar\n",
    "    for m1_rente in rente_per_jaar:\n",
    "        woz *= 1 + huis_groei_per_jaar / 100\n",
    "        aftrek = maandlasten.hypotheek_aftrek(m1_rente, woz_waarde=woz)\n",
    "        aftrek_per_jaar.append(aftrek)\n",
    "\n",
    "    _groei_per_maand = (1 + aandelen_groei_per_jaar / 100) ** (1 / 12)\n",
    "    totaal_betaald = 0\n",
    "    invested = 0\n",
    "    totaal_schuld = huisprijs\n",
    "    huis_waarde = huisprijs\n",
    "    benchmark_betaling = float(m_benchmark.monthly_payment())\n",
    "    for i, (afbetaling, m1_rente) in enumerate(m1.monthly_payment_schedule()):\n",
    "        if i % 12 == 0:\n",
    "            # Hypotheekrente aftrek terug, dat investeren we ook\n",
    "            invested += HOOGSTE_SCHIJF * aftrek_per_jaar[i // 12]\n",
    "\n",
    "        # Vermogen groei\n",
    "        huis_waarde *= per_maand(huis_groei_per_jaar)\n",
    "        invested *= per_maand(aandelen_groei_per_jaar)\n",
    "\n",
    "        # Verrekening\n",
    "        te_betalen = float(afbetaling) + float(m1_rente) + m2_rente\n",
    "        to_invest = benchmark_betaling - te_betalen\n",
    "        totaal_betaald += te_betalen\n",
    "        totaal_schuld -= float(afbetaling)\n",
    "        invested += to_invest\n",
    "\n",
    "    vermogen = invested + huis_waarde - totaal_schuld\n",
    "    return {\n",
    "        \"vermogen\": round(vermogen, 2),\n",
    "        \"schuld\": round(totaal_schuld, 2),\n",
    "        \"betaald\": round(totaal_betaald, 2),\n",
    "        \"huis_waarde\": round(huis_waarde, 2),\n",
    "        \"invested\": round(invested, 2),\n",
    "    }\n",
    "\n",
    "\n",
    "kw = dict(\n",
    "    huis_groei_per_jaar=3,#inflatie_laatste_jaar(30),\n",
    "    aandelen_groei_per_jaar=7,\n",
    "    huisprijs=650_000,\n",
    ")\n",
    "h1 = run_hypotheek(aflossings_vrij=0, **kw)\n",
    "h2 = run_hypotheek(aflossings_vrij=50, **kw)\n",
    "verschil_vermogen = h2[\"vermogen\"] - h1[\"vermogen\"]\n",
    "print(\n",
    "    f\"Het verschil door niet af te lossen is €{verschil_vermogen/1000:.0f}k (€{h1['vermogen']/1e6:.2f}M vs €{h2['vermogen']/1e6:.2f}M vermogen).\"\n",
    "    \"\\n\"\n",
    "    f\"Het aandelenportfolio is €{h1['invested']/1000:.0f}k vs €{h2['invested']/1000:.0f}k.\"\n",
    "    \"\\n\"\n",
    "    f\"De uiteindelijke huiswaarde is €{h1['huis_waarde']/1e6:.2f}M.\"\n",
    ")"
   ]
  },
  {
   "cell_type": "markdown",
   "metadata": {},
   "source": [
    "# Aandelen groei, break even point"
   ]
  },
  {
   "cell_type": "code",
   "execution_count": 161,
   "metadata": {},
   "outputs": [
    {
     "data": {
      "text/plain": [
       "'Als de aandelen harder groeien dan 3.47% per jaar, dan is aflosvrij beter!'"
      ]
     },
     "execution_count": 161,
     "metadata": {},
     "output_type": "execute_result"
    }
   ],
   "source": [
    "from scipy.optimize import minimize_scalar\n",
    "\n",
    "\n",
    "def break_even(groei):\n",
    "    kw = dict(aandelen_groei_per_jaar=groei, huis_groei_per_jaar=4)\n",
    "    h1 = run_hypotheek(aflossings_vrij=0, **kw)\n",
    "    h2 = run_hypotheek(aflossings_vrij=50, **kw)\n",
    "    return abs(h1[\"vermogen\"] - h2[\"vermogen\"])\n",
    "\n",
    "\n",
    "min_aandelen_groei = minimize_scalar(break_even).x\n",
    "f\"Als de aandelen harder groeien dan {min_aandelen_groei:.2f}% per jaar, dan is aflosvrij beter!\""
   ]
  },
  {
   "cell_type": "code",
   "execution_count": 143,
   "metadata": {},
   "outputs": [
    {
     "data": {
      "text/plain": [
       "({'vermogen': 2196869.09,\n",
       "  'schuld': 0.0,\n",
       "  'betaald': 852094.57,\n",
       "  'huis_waarde': 2108208.38,\n",
       "  'invested': 88660.71},\n",
       " {'vermogen': 2179383.77,\n",
       "  'schuld': 325000.0,\n",
       "  'betaald': 620071.75,\n",
       "  'huis_waarde': 2108208.38,\n",
       "  'invested': 396175.39})"
      ]
     },
     "execution_count": 143,
     "metadata": {},
     "output_type": "execute_result"
    }
   ],
   "source": [
    "h1, h2"
   ]
  },
  {
   "cell_type": "code",
   "execution_count": 101,
   "metadata": {},
   "outputs": [],
   "source": [
    "koopkracht_factor = (1 + inflatie_laatste_jaar(30) / 100)**30"
   ]
  },
  {
   "cell_type": "code",
   "execution_count": 118,
   "metadata": {},
   "outputs": [
    {
     "data": {
      "text/plain": [
       "1.7914016201837375"
      ]
     },
     "execution_count": 118,
     "metadata": {},
     "output_type": "execute_result"
    }
   ],
   "source": [
    "koopkracht_factor"
   ]
  },
  {
   "cell_type": "code",
   "execution_count": 90,
   "metadata": {},
   "outputs": [
    {
     "data": {
      "text/plain": [
       "0.6944444444444444"
      ]
     },
     "execution_count": 90,
     "metadata": {},
     "output_type": "execute_result"
    }
   ],
   "source": [
    "250/360"
   ]
  }
 ],
 "metadata": {
  "kernelspec": {
   "display_name": "Python 3",
   "language": "python",
   "name": "python3"
  },
  "language_info": {
   "codemirror_mode": {
    "name": "ipython",
    "version": 3
   },
   "file_extension": ".py",
   "mimetype": "text/x-python",
   "name": "python",
   "nbconvert_exporter": "python",
   "pygments_lexer": "ipython3",
   "version": "3.8.5"
  }
 },
 "nbformat": 4,
 "nbformat_minor": 4
}
